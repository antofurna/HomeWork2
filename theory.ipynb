{
 "cells": [
  {
   "cell_type": "markdown",
   "metadata": {},
   "source": [
    "# Theoretical Question"
   ]
  },
  {
   "cell_type": "markdown",
   "metadata": {},
   "source": [
    "#### 1. The algorithm takes O(nlogn) to execute splitSwap(a, 0, n)\n",
    "#### the algorithm calls swapList() log(n) times and each time it takes O(n) and "
   ]
  },
  {
   "cell_type": "markdown",
   "metadata": {},
   "source": [
    "#### 2. The algorithm is reversing a list. \n",
    "#### It splits a list to half, and then split each one of them and so on... to get to lists with len(1)\n",
    "#### At the next level, it swaps the list with one elements and join them to make 2 elements lists.\n",
    "#### And then swap 2 elements lists and so on... until it gets to the initial lenght.\n",
    "\n",
    "#### It is not efficient at all, because we can do than simply with O(n)"
   ]
  }
 ],
 "metadata": {
  "kernelspec": {
   "display_name": "Python 3",
   "language": "python",
   "name": "python3"
  },
  "language_info": {
   "codemirror_mode": {
    "name": "ipython",
    "version": 3
   },
   "file_extension": ".py",
   "mimetype": "text/x-python",
   "name": "python",
   "nbconvert_exporter": "python",
   "pygments_lexer": "ipython3",
   "version": "3.7.3"
  }
 },
 "nbformat": 4,
 "nbformat_minor": 2
}
